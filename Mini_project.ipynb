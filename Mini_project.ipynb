{
 "cells": [
  {
   "cell_type": "code",
   "execution_count": 5,
   "metadata": {},
   "outputs": [],
   "source": [
    "site_web = \"https://www.simons.ca/fr\""
   ]
  },
  {
   "cell_type": "code",
   "execution_count": 6,
   "metadata": {},
   "outputs": [],
   "source": [
    "article = input(\"Inserer l'article désiré\")"
   ]
  },
  {
   "cell_type": "code",
   "execution_count": 7,
   "metadata": {},
   "outputs": [
    {
     "name": "stdout",
     "output_type": "stream",
     "text": [
      "https://www.simons.ca/fr/recherche--search?query=t-shirt\n"
     ]
    }
   ],
   "source": [
    "final_link = site_web+\"/recherche--search?query=\"+article\n",
    "print(final_link)"
   ]
  },
  {
   "cell_type": "code",
   "execution_count": 4,
   "metadata": {},
   "outputs": [
    {
     "name": "stdout",
     "output_type": "stream",
     "text": [
      "Defaulting to user installation because normal site-packages is not writeable\n",
      "Requirement already satisfied: selenium in /Users/simogabin/Library/Python/3.9/lib/python/site-packages (4.31.0)\n",
      "Requirement already satisfied: urllib3<3,>=1.26 in /Users/simogabin/Library/Python/3.9/lib/python/site-packages (from urllib3[socks]<3,>=1.26->selenium) (2.3.0)\n",
      "Requirement already satisfied: trio~=0.17 in /Users/simogabin/Library/Python/3.9/lib/python/site-packages (from selenium) (0.29.0)\n",
      "Requirement already satisfied: trio-websocket~=0.9 in /Users/simogabin/Library/Python/3.9/lib/python/site-packages (from selenium) (0.12.2)\n",
      "Requirement already satisfied: certifi>=2021.10.8 in /Users/simogabin/Library/Python/3.9/lib/python/site-packages (from selenium) (2025.1.31)\n",
      "Requirement already satisfied: typing_extensions~=4.9 in /Users/simogabin/Library/Python/3.9/lib/python/site-packages (from selenium) (4.12.2)\n",
      "Requirement already satisfied: websocket-client~=1.8 in /Users/simogabin/Library/Python/3.9/lib/python/site-packages (from selenium) (1.8.0)\n",
      "Requirement already satisfied: attrs>=23.2.0 in /Users/simogabin/Library/Python/3.9/lib/python/site-packages (from trio~=0.17->selenium) (25.3.0)\n",
      "Requirement already satisfied: sortedcontainers in /Users/simogabin/Library/Python/3.9/lib/python/site-packages (from trio~=0.17->selenium) (2.4.0)\n",
      "Requirement already satisfied: idna in /Users/simogabin/Library/Python/3.9/lib/python/site-packages (from trio~=0.17->selenium) (3.10)\n",
      "Requirement already satisfied: outcome in /Users/simogabin/Library/Python/3.9/lib/python/site-packages (from trio~=0.17->selenium) (1.3.0.post0)\n",
      "Requirement already satisfied: sniffio>=1.3.0 in /Users/simogabin/Library/Python/3.9/lib/python/site-packages (from trio~=0.17->selenium) (1.3.1)\n",
      "Requirement already satisfied: exceptiongroup in /Users/simogabin/Library/Python/3.9/lib/python/site-packages (from trio~=0.17->selenium) (1.2.2)\n",
      "Requirement already satisfied: wsproto>=0.14 in /Users/simogabin/Library/Python/3.9/lib/python/site-packages (from trio-websocket~=0.9->selenium) (1.2.0)\n",
      "Requirement already satisfied: pysocks!=1.5.7,<2.0,>=1.5.6 in /Users/simogabin/Library/Python/3.9/lib/python/site-packages (from urllib3[socks]<3,>=1.26->selenium) (1.7.1)\n",
      "Requirement already satisfied: h11<1,>=0.9.0 in /Users/simogabin/Library/Python/3.9/lib/python/site-packages (from wsproto>=0.14->trio-websocket~=0.9->selenium) (0.14.0)\n",
      "\n",
      "\u001b[1m[\u001b[0m\u001b[34;49mnotice\u001b[0m\u001b[1;39;49m]\u001b[0m\u001b[39;49m A new release of pip is available: \u001b[0m\u001b[31;49m25.0\u001b[0m\u001b[39;49m -> \u001b[0m\u001b[32;49m25.0.1\u001b[0m\n",
      "\u001b[1m[\u001b[0m\u001b[34;49mnotice\u001b[0m\u001b[1;39;49m]\u001b[0m\u001b[39;49m To update, run: \u001b[0m\u001b[32;49m/Library/Developer/CommandLineTools/usr/bin/python3 -m pip install --upgrade pip\u001b[0m\n",
      "Note: you may need to restart the kernel to use updated packages.\n"
     ]
    }
   ],
   "source": [
    "pip install selenium"
   ]
  },
  {
   "cell_type": "code",
   "execution_count": 5,
   "metadata": {},
   "outputs": [
    {
     "name": "stdout",
     "output_type": "stream",
     "text": [
      "Defaulting to user installation because normal site-packages is not writeable\n",
      "Requirement already satisfied: webdriver_manager in /Users/simogabin/Library/Python/3.9/lib/python/site-packages (4.0.2)\n",
      "Requirement already satisfied: requests in /Users/simogabin/Library/Python/3.9/lib/python/site-packages (from webdriver_manager) (2.32.3)\n",
      "Requirement already satisfied: python-dotenv in /Users/simogabin/Library/Python/3.9/lib/python/site-packages (from webdriver_manager) (1.1.0)\n",
      "Requirement already satisfied: packaging in /Users/simogabin/Library/Python/3.9/lib/python/site-packages (from webdriver_manager) (24.1)\n",
      "Requirement already satisfied: charset-normalizer<4,>=2 in /Users/simogabin/Library/Python/3.9/lib/python/site-packages (from requests->webdriver_manager) (3.4.1)\n",
      "Requirement already satisfied: idna<4,>=2.5 in /Users/simogabin/Library/Python/3.9/lib/python/site-packages (from requests->webdriver_manager) (3.10)\n",
      "Requirement already satisfied: urllib3<3,>=1.21.1 in /Users/simogabin/Library/Python/3.9/lib/python/site-packages (from requests->webdriver_manager) (2.3.0)\n",
      "Requirement already satisfied: certifi>=2017.4.17 in /Users/simogabin/Library/Python/3.9/lib/python/site-packages (from requests->webdriver_manager) (2025.1.31)\n",
      "\n",
      "\u001b[1m[\u001b[0m\u001b[34;49mnotice\u001b[0m\u001b[1;39;49m]\u001b[0m\u001b[39;49m A new release of pip is available: \u001b[0m\u001b[31;49m25.0\u001b[0m\u001b[39;49m -> \u001b[0m\u001b[32;49m25.0.1\u001b[0m\n",
      "\u001b[1m[\u001b[0m\u001b[34;49mnotice\u001b[0m\u001b[1;39;49m]\u001b[0m\u001b[39;49m To update, run: \u001b[0m\u001b[32;49m/Library/Developer/CommandLineTools/usr/bin/python3 -m pip install --upgrade pip\u001b[0m\n",
      "Note: you may need to restart the kernel to use updated packages.\n"
     ]
    }
   ],
   "source": [
    "pip install webdriver_manager"
   ]
  },
  {
   "cell_type": "code",
   "execution_count": null,
   "metadata": {},
   "outputs": [],
   "source": [
    "pip install selenium webdriver-manager\n"
   ]
  },
  {
   "cell_type": "code",
   "execution_count": 9,
   "metadata": {},
   "outputs": [
    {
     "name": "stderr",
     "output_type": "stream",
     "text": [
      "/Users/simogabin/Library/Python/3.9/lib/python/site-packages/urllib3/__init__.py:35: NotOpenSSLWarning: urllib3 v2 only supports OpenSSL 1.1.1+, currently the 'ssl' module is compiled with 'LibreSSL 2.8.3'. See: https://github.com/urllib3/urllib3/issues/3020\n",
      "  warnings.warn(\n"
     ]
    }
   ],
   "source": [
    "from selenium import webdriver\n",
    "from selenium.webdriver.chrome.service import Service\n",
    "from selenium.webdriver.common.by import By\n",
    "from selenium.webdriver.chrome.options import Options\n",
    "from webdriver_manager.chrome import ChromeDriverManager\n",
    "from selenium.webdriver.support.ui import WebDriverWait\n",
    "from selenium.webdriver.support import expected_conditions as EC \n",
    "from bs4 import BeautifulSoup\n",
    "import requests\n",
    "import time"
   ]
  },
  {
   "cell_type": "code",
   "execution_count": 10,
   "metadata": {},
   "outputs": [],
   "source": [
    "from selenium import webdriver\n",
    "from selenium.webdriver.firefox.service import Service\n",
    "from webdriver_manager.firefox import GeckoDriverManager"
   ]
  },
  {
   "cell_type": "code",
   "execution_count": 60,
   "metadata": {},
   "outputs": [],
   "source": [
    "# Configuration de Chrome\n",
    "#options = Options()\n",
    "#options.add_argument('--headless')\n",
    "#options.add_argument('--no-sandbox')\n",
    "#options.add_argument('--disable-gpu')\n",
    "\n",
    "#driver = webdriver.Chrome(service=Service(ChromeDriverManager().install()), options=options)"
   ]
  },
  {
   "cell_type": "code",
   "execution_count": 11,
   "metadata": {},
   "outputs": [],
   "source": [
    "# Configuration Firefox\n",
    "options = webdriver.FirefoxOptions()\n",
    "options.add_argument(\"--headless\")\n",
    "options.add_argument(\"--incognito\")\n",
    "\n",
    "driver = webdriver.Firefox(service=Service(GeckoDriverManager().install()), options=options)"
   ]
  },
  {
   "cell_type": "code",
   "execution_count": 12,
   "metadata": {},
   "outputs": [],
   "source": [
    "driver.get(final_link)\n",
    "\n",
    "html = driver.page_source\n",
    "\n",
    "try:\n",
    "    WebDriverWait(driver, 10).until(\n",
    "        EC.presence_of_element_located((By.CLASS_NAME, \"productCard-info\"))\n",
    "    )\n",
    "    time.sleep(2)  # petite pause pour laisser tout finir de charger\n",
    "except:\n",
    "    print(\"Les produits ne se sont pas chargés à temps.\")\n",
    "\n",
    "\n",
    "soup = BeautifulSoup(html, 'html.parser')\n",
    "#print(soup.prettify())\n",
    "all_product = soup.find_all('div', class_='productCard-info')\n",
    "\n",
    "name = []\n",
    "price = []\n",
    "brand = []\n",
    "\n",
    "\n",
    "for product in all_product:\n",
    "    name_product = product.find('p', \"productCard-name\").text.strip()\n",
    "    price_product = product.find('span', \"productPrice-price\").text.strip()\n",
    "    brand_product = product.find('p', \"productCard-brand\").text.strip()\n",
    "\n",
    "    name.append(name_product)\n",
    "    price.append(price_product)\n",
    "    brand.append(brand_product)\n",
    "    \n",
    "driver.quit()"
   ]
  },
  {
   "cell_type": "code",
   "execution_count": 13,
   "metadata": {},
   "outputs": [],
   "source": [
    "import pandas as pd\n",
    "import numpy as np"
   ]
  },
  {
   "cell_type": "code",
   "execution_count": 14,
   "metadata": {},
   "outputs": [
    {
     "name": "stdout",
     "output_type": "stream",
     "text": [
      "le nombre d'aeticle:   51\n",
      "\n",
      "\n",
      "\n",
      " ID                                                   nom         Prix               Marque\n",
      "  1         Le t-shirt col rond jersey légerCoupe ajustée  18,00 $ CAN                 Twik\n",
      "  2                  Le t-shirt jersey uni coton SUPIMAMD  29,00 $ CAN        Contemporaine\n",
      "  3                    Le t-shirt ample imprimé graphique  29,00 $ CAN                 Twik\n",
      "  4 Le t-shirt col rond manches courtesCoupe décontractée  20,00 $ CAN                 Twik\n",
      "  5                   Le t-shirt coton bio manches revers  29,00 $ CAN        Contemporaine\n",
      "  6                            Le t-shirt petite broderie  25,00 $ CAN                 Twik\n",
      "  7                   Le t-shirt manches bordures crochet  39,00 $ CAN        Contemporaine\n",
      "  8    Le t-shirt col V manches courtesCoupe très ajustée  18,00 $ CAN                 Twik\n",
      "  9                      Le t-shirt carré ample coton bio  25,00 $ CAN                Icône\n",
      " 10                  Le t-shirt col rond douce microfibre  39,00 $ CAN                Icône\n",
      " 11            Le t-shirt uni col rondDJAB 101Coupe ample  19,99 $ CAN                 Djab\n",
      " 12             Le t-shirt broderie anglaise manches cape  49,00 $ CAN        Contemporaine\n",
      " 13    Le t-shirt Syracuse UniversityImportation de Séoul  59,00 $ CAN                Le 31\n",
      " 14                          Le t-shirt ample logo centré  35,00 $ CAN                 Nike\n",
      " 15                                Le t-shirt Nike Legend  35,00 $ CAN                 Nike\n",
      " 16        Le t-shirt imprimé graphiqueCoupe décontractée  25,00 $ CAN                 Twik\n",
      " 17                 Le t-shirt manches 3/4 coton SUPIMAMD  39,00 $ CAN        Contemporaine\n",
      " 18              Le t-shirt rayé texturé épaules froncées  24,95 $ CAN        Contemporaine\n",
      " 19                          Le t-shirt coton bio imprimé  29,00 $ CAN        Contemporaine\n",
      " 20                            Le t-shirt col V coton bio  19,99 $ CAN        Contemporaine\n",
      " 21          Le t-shirt ajusté coton bio uniCoupe ajustée  24,95 $ CAN                Le 31\n",
      " 22                       Le t-shirt imprimé manches cape  39,00 $ CAN        Contemporaine\n",
      " 23                            Le t-shirt imprimé pur lin  69,00 $ CAN        Contemporaine\n",
      " 24       Le t-shirt col rond pur coton bioCoupe standard  19,99 $ CAN                Le 31\n",
      " 25         Le t-shirt henley pur coton bioCoupe standard  19,99 $ CAN                Le 31\n",
      " 26                              Le t-shirt pur lin col V  59,00 $ CAN        Contemporaine\n",
      " 27                         Le t-shirt pur lin à col rond  59,00 $ CAN        Contemporaine\n",
      " 28                       La robe t-shirt étagée col rond  49,00 $ CAN            Vero Moda\n",
      " 29                Le t-shirt rayé coton bio manches cape  29,00 $ CAN        Contemporaine\n",
      " 30                    Le t-shirt pur lin manches longues  69,00 $ CAN        Contemporaine\n",
      " 31               Le t-shirt délavé et impriméCoupe ample  29,00 $ CAN                 Twik\n",
      " 32                Le t-shirt pur lin imprimé manches 3/4  79,00 $ CAN        Contemporaine\n",
      " 33                        Le t-shirt ultrafluide à motif  49,00 $ CAN        Contemporaine\n",
      " 34 Le t-shirt col rond manches courtesCoupe très ajustée  18,00 $ CAN                 Twik\n",
      " 35  Le t-shirt coton biologique extensibleCoupe standard  29,00 $ CAN                Le 31\n",
      " 36          Le t-shirt col V pur coton bioCoupe standard  19,99 $ CAN                Le 31\n",
      " 37                    Le t-shirt filet motif manches 3/4  34,95 $ CAN        Contemporaine\n",
      " 38 Le t-shirt col rond jersey léger impriméCoupe ajustée  25,00 $ CAN                 Twik\n",
      " 39                   Le t-shirt carré manches roulottées  25,00 $ CAN                 Twik\n",
      " 40                 Le t-shirt coton bio pochette crochet  24,95 $ CAN        Contemporaine\n",
      " 41               Le t-shirt pur lin imprimé manches cape  69,00 $ CAN        Contemporaine\n",
      " 42        Le t-shirt allongé coton bio uniCoupe allongée  24,95 $ CAN                Le 31\n",
      " 43                   Le t-shirt accent broderie anglaise  35,00 $ CAN                Icône\n",
      " 44             Le t-shirt détente ample ultraconfortable  35,00 $ CAN         Miiyu x Twik\n",
      " 45                          Le t-shirt broderie anglaise  39,00 $ CAN                Icône\n",
      " 46                  Le t-shirt fluide mancherons crochet  24,95 $ CAN        Contemporaine\n",
      " 47           Le t-shirt de nuit à motif coloris apaisant  45,00 $ CAN                Miiyu\n",
      " 48                    Le t-shirt tunique col V coton bio  39,00 $ CAN        Contemporaine\n",
      " 49           Le t-shirt texturé pointelle à manches cape  39,00 $ CAN        Contemporaine\n",
      " 50       Le t-shirt dos boutonné lin et coton biologique  69,00 $ CAN        Contemporaine\n",
      " 51                           Le t-shirt signature en lin 149,95 $ CAN Isabel Marant Etoile\n"
     ]
    }
   ],
   "source": [
    "df = pd.DataFrame({\n",
    "    \"nom\": name,\n",
    "    \"Prix\": price,\n",
    "    \"Marque\": brand \n",
    "})\n",
    "\n",
    "df.insert(0, 'ID', range(1, len(df) + 1))\n",
    "\n",
    "print(f\"le nombre d'aeticle:   {len(df)}\")\n",
    "print(\"\\n\\n\")\n",
    "print(df.to_string(index=False))"
   ]
  },
  {
   "cell_type": "code",
   "execution_count": 15,
   "metadata": {},
   "outputs": [
    {
     "name": "stdout",
     "output_type": "stream",
     "text": [
      "Defaulting to user installation because normal site-packages is not writeable\n",
      "Requirement already satisfied: openpyxl in /Users/simogabin/Library/Python/3.9/lib/python/site-packages (3.1.5)\n",
      "Requirement already satisfied: et-xmlfile in /Users/simogabin/Library/Python/3.9/lib/python/site-packages (from openpyxl) (2.0.0)\n",
      "\n",
      "\u001b[1m[\u001b[0m\u001b[34;49mnotice\u001b[0m\u001b[1;39;49m]\u001b[0m\u001b[39;49m A new release of pip is available: \u001b[0m\u001b[31;49m25.0\u001b[0m\u001b[39;49m -> \u001b[0m\u001b[32;49m25.0.1\u001b[0m\n",
      "\u001b[1m[\u001b[0m\u001b[34;49mnotice\u001b[0m\u001b[1;39;49m]\u001b[0m\u001b[39;49m To update, run: \u001b[0m\u001b[32;49m/Library/Developer/CommandLineTools/usr/bin/python3 -m pip install --upgrade pip\u001b[0m\n",
      "Note: you may need to restart the kernel to use updated packages.\n"
     ]
    }
   ],
   "source": [
    "pip install openpyxl"
   ]
  },
  {
   "cell_type": "code",
   "execution_count": 16,
   "metadata": {},
   "outputs": [],
   "source": [
    "import os"
   ]
  },
  {
   "cell_type": "code",
   "execution_count": 20,
   "metadata": {},
   "outputs": [
    {
     "name": "stdout",
     "output_type": "stream",
     "text": [
      "le fichier est sauvegardé --> /Users/simogabin/Desktop/extract.xlsx\n"
     ]
    }
   ],
   "source": [
    "repository = os.path.join(os.path.expanduser(\"~\"), \"Desktop\", \"extract.xlsx\")\n",
    "df.to_excel(repository, index=False)\n",
    "print(f\"le fichier est sauvegardé --> {repository}\")"
   ]
  }
 ],
 "metadata": {
  "kernelspec": {
   "display_name": "Python 3",
   "language": "python",
   "name": "python3"
  },
  "language_info": {
   "codemirror_mode": {
    "name": "ipython",
    "version": 3
   },
   "file_extension": ".py",
   "mimetype": "text/x-python",
   "name": "python",
   "nbconvert_exporter": "python",
   "pygments_lexer": "ipython3",
   "version": "3.9.6"
  }
 },
 "nbformat": 4,
 "nbformat_minor": 2
}
